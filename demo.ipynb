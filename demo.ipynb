{
 "cells": [
  {
   "cell_type": "code",
   "execution_count": 1,
   "metadata": {},
   "outputs": [],
   "source": [
    "import sys\n",
    "sys.path.append('./lib/')"
   ]
  },
  {
   "cell_type": "code",
   "execution_count": 2,
   "metadata": {},
   "outputs": [],
   "source": [
    "from pymongo import MongoClient\n",
    "import spacy\n",
    "\n",
    "from extract_biographies import extract_biographies\n",
    "from generate_sample_collection import copy_sample\n",
    "from extract_first_sentence import FirstSentenceExtractor\n",
    "from vectorizer import Vectorizer\n",
    "from query import Searcher"
   ]
  },
  {
   "cell_type": "code",
   "execution_count": 3,
   "metadata": {},
   "outputs": [],
   "source": [
    "SPACY_MODEL = 'en_vectors_web_lg'"
   ]
  },
  {
   "cell_type": "code",
   "execution_count": 4,
   "metadata": {},
   "outputs": [
    {
     "name": "stdout",
     "output_type": "stream",
     "text": [
      "inserting batch (max 998)...\n"
     ]
    }
   ],
   "source": [
    "extract_biographies(collection_name='bios', limit=100)"
   ]
  },
  {
   "cell_type": "code",
   "execution_count": 5,
   "metadata": {},
   "outputs": [
    {
     "name": "stderr",
     "output_type": "stream",
     "text": [
      "/Users/lu/.pyenv/versions/3.7.0/lib/python3.7/site-packages/ipykernel_launcher.py:1: DeprecationWarning: remove is deprecated. Use delete_one or delete_many instead.\n",
      "  \"\"\"Entry point for launching an IPython kernel.\n"
     ]
    }
   ],
   "source": [
    "MongoClient().who.sample_bios.remove({})\n",
    "copy_sample('bios', 'sample_bios', 10)"
   ]
  },
  {
   "cell_type": "code",
   "execution_count": 6,
   "metadata": {},
   "outputs": [
    {
     "name": "stdout",
     "output_type": "stream",
     "text": [
      "insertation count: 0\n"
     ]
    }
   ],
   "source": [
    "FirstSentenceExtractor().extract('sample_bios', new_field_name='first_sentence')"
   ]
  },
  {
   "cell_type": "code",
   "execution_count": 7,
   "metadata": {},
   "outputs": [
    {
     "data": {
      "text/plain": [
       "dict_keys(['_id', 'name', 'bio', 'first_sentence'])"
      ]
     },
     "execution_count": 7,
     "metadata": {},
     "output_type": "execute_result"
    }
   ],
   "source": [
    "sample_bios = MongoClient().who.sample_bios\n",
    "next(sample_bios.find({})).keys()"
   ]
  },
  {
   "cell_type": "code",
   "execution_count": 8,
   "metadata": {},
   "outputs": [
    {
     "data": {
      "text/plain": [
       "'Aristotle  was an ancient Greek philosopher and scientist born in the city of Stagira, Chalkidiki, in the north of Classical Greece.'"
      ]
     },
     "execution_count": 8,
     "metadata": {},
     "output_type": "execute_result"
    }
   ],
   "source": [
    "next(sample_bios.find({}))['first_sentence']"
   ]
  },
  {
   "cell_type": "code",
   "execution_count": 9,
   "metadata": {},
   "outputs": [],
   "source": [
    "nlp = spacy.load(SPACY_MODEL)"
   ]
  },
  {
   "cell_type": "code",
   "execution_count": 10,
   "metadata": {},
   "outputs": [
    {
     "name": "stdout",
     "output_type": "stream",
     "text": [
      "insertation count: 0\n"
     ]
    }
   ],
   "source": [
    "Vectorizer(nlp).vectorize_text(\n",
    "    collection_name='sample_bios',\n",
    "    text_field_name='first_sentence',\n",
    "    vector_field_name='fresh_new_vectorization'\n",
    ")"
   ]
  },
  {
   "cell_type": "code",
   "execution_count": 11,
   "metadata": {},
   "outputs": [
    {
     "data": {
      "text/plain": [
       "[0.1327292025089264,\n",
       " 0.1331862360239029,\n",
       " 0.014599960297346115,\n",
       " -0.11252431571483612,\n",
       " 0.1476694941520691,\n",
       " 0.07800917327404022,\n",
       " -0.029186425730586052,\n",
       " -0.0027071249205619097,\n",
       " -0.00013017773744650185]"
      ]
     },
     "execution_count": 11,
     "metadata": {},
     "output_type": "execute_result"
    }
   ],
   "source": [
    "next(sample_bios.find({}))['fresh_new_vectorization'][:9]"
   ]
  },
  {
   "cell_type": "code",
   "execution_count": 12,
   "metadata": {},
   "outputs": [
    {
     "data": {
      "text/plain": [
       "dict_keys(['_id', 'name', 'bio', 'first_sentence', 'fresh_new_vectorization'])"
      ]
     },
     "execution_count": 12,
     "metadata": {},
     "output_type": "execute_result"
    }
   ],
   "source": [
    "next(MongoClient().who.sample_bios.find({})).keys()"
   ]
  },
  {
   "cell_type": "code",
   "execution_count": 13,
   "metadata": {
    "scrolled": true
   },
   "outputs": [
    {
     "name": "stdout",
     "output_type": "stream",
     "text": [
      "generating vector similarity maps...\n"
     ]
    },
    {
     "data": {
      "text/plain": [
       "['Paul Castellano',\n",
       " 'Matthew Hale (jurist)',\n",
       " 'Sergei Bodrov Jr.',\n",
       " 'Joseph Gurney Cannon',\n",
       " 'Ibn al-Shaykh al-Libi',\n",
       " 'Aristotle',\n",
       " 'Pope Liberius',\n",
       " 'Giulio Alenio',\n",
       " 'David Gates',\n",
       " 'Algernon Blackwood']"
      ]
     },
     "execution_count": 13,
     "metadata": {},
     "output_type": "execute_result"
    }
   ],
   "source": [
    "Searcher(nlp, collection_name='sample_bios', vector_field_name='fresh_new_vectorization').query('king', limit=10)"
   ]
  }
 ],
 "metadata": {
  "kernelspec": {
   "display_name": "Python 3",
   "language": "python",
   "name": "python3"
  },
  "language_info": {
   "codemirror_mode": {
    "name": "ipython",
    "version": 3
   },
   "file_extension": ".py",
   "mimetype": "text/x-python",
   "name": "python",
   "nbconvert_exporter": "python",
   "pygments_lexer": "ipython3",
   "version": "3.7.0"
  }
 },
 "nbformat": 4,
 "nbformat_minor": 2
}
