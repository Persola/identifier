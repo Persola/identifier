{
 "cells": [
  {
   "cell_type": "code",
   "execution_count": 1,
   "metadata": {},
   "outputs": [],
   "source": [
    "import sys\n",
    "sys.path += [\n",
    "    './lib/',\n",
    "    './lib/field_mappers'\n",
    "]"
   ]
  },
  {
   "cell_type": "code",
   "execution_count": 2,
   "metadata": {},
   "outputs": [],
   "source": [
    "import time\n",
    "from pymongo import MongoClient\n",
    "import spacy\n",
    "\n",
    "from extract_biographies import extract_biographies\n",
    "from generate_sample_collection import copy_sample\n",
    "from extract_first_sentence import FirstSentenceExtractor\n",
    "from vectorizer import Vectorizer\n",
    "from pageview_aggregator import PageviewAggregator\n",
    "from query import Searcher"
   ]
  },
  {
   "cell_type": "code",
   "execution_count": 3,
   "metadata": {},
   "outputs": [],
   "source": [
    "SPACY_MODEL = 'en_vectors_web_lg'"
   ]
  },
  {
   "cell_type": "code",
   "execution_count": 5,
   "metadata": {},
   "outputs": [],
   "source": [
    "db = MongoClient().who\n",
    "# clean up test db\n",
    "# db.bios.remove({})\n",
    "# db.sample_bios.remove({})"
   ]
  },
  {
   "cell_type": "code",
   "execution_count": 5,
   "metadata": {},
   "outputs": [
    {
     "name": "stdout",
     "output_type": "stream",
     "text": [
      "inserting batch 0\n",
      "inserting batch 1\n",
      "inserting batch 2\n",
      "inserting batch 3\n",
      "inserting batch 4\n",
      "inserting batch 5\n",
      "inserting batch 6\n",
      "inserting batch 7\n",
      "inserting batch 8\n",
      "inserting batch 9\n",
      "inserting batch 10\n"
     ]
    }
   ],
   "source": [
    "extract_biographies(collection_name='bios', limit=100_000)"
   ]
  },
  {
   "cell_type": "code",
   "execution_count": 7,
   "metadata": {},
   "outputs": [
    {
     "data": {
      "text/plain": [
       "10000"
      ]
     },
     "execution_count": 7,
     "metadata": {},
     "output_type": "execute_result"
    }
   ],
   "source": [
    "db.sample_bios.count_documents({})"
   ]
  },
  {
   "cell_type": "code",
   "execution_count": 4,
   "metadata": {},
   "outputs": [
    {
     "ename": "NameError",
     "evalue": "name 'db' is not defined",
     "output_type": "error",
     "traceback": [
      "\u001b[0;31m---------------------------------------------------------------------------\u001b[0m",
      "\u001b[0;31mNameError\u001b[0m                                 Traceback (most recent call last)",
      "\u001b[0;32m<ipython-input-4-f0caf6ee3449>\u001b[0m in \u001b[0;36m<module>\u001b[0;34m\u001b[0m\n\u001b[1;32m      1\u001b[0m \u001b[0mcopy_sample\u001b[0m\u001b[0;34m(\u001b[0m\u001b[0;34m'bios'\u001b[0m\u001b[0;34m,\u001b[0m \u001b[0;34m'sample_bios'\u001b[0m\u001b[0;34m,\u001b[0m \u001b[0;36m10_000\u001b[0m\u001b[0;34m)\u001b[0m\u001b[0;34m\u001b[0m\u001b[0m\n\u001b[0;32m----> 2\u001b[0;31m \u001b[0mdb\u001b[0m\u001b[0;34m.\u001b[0m\u001b[0msample_bios\u001b[0m\u001b[0;34m.\u001b[0m\u001b[0mcount_documents\u001b[0m\u001b[0;34m(\u001b[0m\u001b[0;34m{\u001b[0m\u001b[0;34m}\u001b[0m\u001b[0;34m)\u001b[0m\u001b[0;34m\u001b[0m\u001b[0m\n\u001b[0m",
      "\u001b[0;31mNameError\u001b[0m: name 'db' is not defined"
     ]
    }
   ],
   "source": [
    "copy_sample('bios', 'sample_bios', 10_000)\n",
    "db.sample_bios.count_documents({})"
   ]
  },
  {
   "cell_type": "code",
   "execution_count": 8,
   "metadata": {},
   "outputs": [
    {
     "name": "stdout",
     "output_type": "stream",
     "text": [
      "insertation count: 0\n",
      "insertation count: 1000\n",
      "insertation count: 2000\n",
      "insertation count: 3000\n",
      "insertation count: 4000\n",
      "insertation count: 5000\n",
      "insertation count: 6000\n",
      "insertation count: 7000\n",
      "insertation count: 8000\n",
      "insertation count: 9000\n"
     ]
    }
   ],
   "source": [
    "FirstSentenceExtractor().extract('sample_bios')"
   ]
  },
  {
   "cell_type": "code",
   "execution_count": 9,
   "metadata": {},
   "outputs": [
    {
     "data": {
      "text/plain": [
       "dict_keys(['_id', 'name', 'bio', 'first_sentence'])"
      ]
     },
     "execution_count": 9,
     "metadata": {},
     "output_type": "execute_result"
    }
   ],
   "source": [
    "next(db.sample_bios.find({})).keys()"
   ]
  },
  {
   "cell_type": "code",
   "execution_count": 10,
   "metadata": {},
   "outputs": [
    {
     "data": {
      "text/plain": [
       "'Vilfredo Federico Damaso Pareto  was an Italian engineer, sociologist, economist, political scientist, and philosopher.'"
      ]
     },
     "execution_count": 10,
     "metadata": {},
     "output_type": "execute_result"
    }
   ],
   "source": [
    "next(db.sample_bios.find({}))['first_sentence']"
   ]
  },
  {
   "cell_type": "code",
   "execution_count": 11,
   "metadata": {},
   "outputs": [],
   "source": [
    "nlp = spacy.load(SPACY_MODEL)"
   ]
  },
  {
   "cell_type": "code",
   "execution_count": 12,
   "metadata": {},
   "outputs": [
    {
     "name": "stdout",
     "output_type": "stream",
     "text": [
      "insertation count: 0\n",
      "insertation count: 1000\n",
      "insertation count: 2000\n",
      "insertation count: 3000\n",
      "insertation count: 4000\n",
      "insertation count: 5000\n",
      "insertation count: 6000\n",
      "insertation count: 7000\n",
      "insertation count: 8000\n",
      "insertation count: 9000\n"
     ]
    }
   ],
   "source": [
    "Vectorizer(nlp).vectorize_text(\n",
    "    collection_name='sample_bios',\n",
    "    text_field_name='first_sentence',\n",
    "    vector_field_name='fresh_new_vectorization'\n",
    ")"
   ]
  },
  {
   "cell_type": "code",
   "execution_count": 13,
   "metadata": {},
   "outputs": [
    {
     "name": "stdout",
     "output_type": "stream",
     "text": [
      "pageview total insertation count: 0\n"
     ]
    }
   ],
   "source": [
    "pva = PageviewAggregator()\n",
    "# do but once:\n",
    "# pva.aggregate('./data/monthly_view_totals/filtered')\n",
    "pva.load_totals()\n",
    "pva.insert(collection_name='sample_bios')"
   ]
  },
  {
   "cell_type": "code",
   "execution_count": 14,
   "metadata": {},
   "outputs": [
    {
     "data": {
      "text/plain": [
       "[-0.02991873398423195,\n",
       " 0.17837101221084595,\n",
       " 0.06707080453634262,\n",
       " 0.004216194152832031,\n",
       " 0.04910694807767868,\n",
       " 0.22781610488891602,\n",
       " -0.042344801127910614,\n",
       " -0.20524628460407257,\n",
       " -0.1988140046596527]"
      ]
     },
     "execution_count": 14,
     "metadata": {},
     "output_type": "execute_result"
    }
   ],
   "source": [
    "next(db.sample_bios.find({}))['fresh_new_vectorization'][:9]"
   ]
  },
  {
   "cell_type": "code",
   "execution_count": 15,
   "metadata": {},
   "outputs": [
    {
     "data": {
      "text/plain": [
       "dict_keys(['_id', 'name', 'bio', 'first_sentence', 'fresh_new_vectorization', 'views'])"
      ]
     },
     "execution_count": 15,
     "metadata": {},
     "output_type": "execute_result"
    }
   ],
   "source": [
    "next(db.sample_bios.find({})).keys()"
   ]
  },
  {
   "cell_type": "code",
   "execution_count": 65,
   "metadata": {},
   "outputs": [],
   "source": [
    "%run './lib/query'"
   ]
  },
  {
   "cell_type": "code",
   "execution_count": 66,
   "metadata": {
    "scrolled": true
   },
   "outputs": [
    {
     "name": "stdout",
     "output_type": "stream",
     "text": [
      "1.157724142074585\n"
     ]
    },
    {
     "data": {
      "text/plain": [
       "[{'name': 'Friedrich Ernst Dorn',\n",
       "  'cosine_distance': 0.7749917213552745,\n",
       "  'views': 364,\n",
       "  'prominence': 1.0118641348334851,\n",
       "  'rank': 0.7841863276322683},\n",
       " {'name': 'Marie Curie',\n",
       "  'cosine_distance': 0.7615277365570745,\n",
       "  'views': 145626,\n",
       "  'prominence': 1.0240625348483006,\n",
       "  'rank': 0.7798520242559266},\n",
       " {'name': 'Edward Jenner',\n",
       "  'cosine_distance': 0.7476269055228573,\n",
       "  'views': 26533,\n",
       "  'prominence': 1.0205812205130782,\n",
       "  'rank': 0.7630139797269335},\n",
       " {'name': 'Wilhelm Röntgen',\n",
       "  'cosine_distance': 0.7435304087465205,\n",
       "  'views': 20356,\n",
       "  'prominence': 1.020040428173996,\n",
       "  'rank': 0.7584310764981872},\n",
       " {'name': 'W. H. R. Rivers',\n",
       "  'cosine_distance': 0.7448903312880188,\n",
       "  'views': 2161,\n",
       "  'prominence': 1.0154751720136845,\n",
       "  'rank': 0.7564176372960314},\n",
       " {'name': 'Billy the Kid',\n",
       "  'cosine_distance': 0.7328468215456974,\n",
       "  'views': 70120,\n",
       "  'prominence': 1.022566789573722,\n",
       "  'rank': 0.7493848215572901},\n",
       " {'name': 'Johan August Arfwedson',\n",
       "  'cosine_distance': 0.7392873760957566,\n",
       "  'views': 736,\n",
       "  'prominence': 1.0132899975272702,\n",
       "  'rank': 0.7491125034960112},\n",
       " {'name': 'Luigi Galvani',\n",
       "  'cosine_distance': 0.733823231861494,\n",
       "  'views': 10043,\n",
       "  'prominence': 1.0186001291976223,\n",
       "  'rank': 0.7474724387823346},\n",
       " {'name': 'Emil Theodor Kocher',\n",
       "  'cosine_distance': 0.736239427380286,\n",
       "  'views': 1489,\n",
       "  'prominence': 1.0147189930913296,\n",
       "  'rank': 0.747076130425461},\n",
       " {'name': 'Shooting of Edmond Yu',\n",
       "  'cosine_distance': 0.7345406921668904,\n",
       "  'views': 227,\n",
       "  'prominence': 1.010908973654659,\n",
       "  'rank': 0.742553777226014}]"
      ]
     },
     "execution_count": 66,
     "metadata": {},
     "output_type": "execute_result"
    }
   ],
   "source": [
    "start = time.time()\n",
    "result = Searcher(\n",
    "    nlp,\n",
    "    collection_name='sample_bios',\n",
    "    vector_field_name='fresh_new_vectorization'\n",
    ").query('female chemist who died from radiation poisoning', limit=10)\n",
    "end = time.time()\n",
    "print(end - start)\n",
    "result"
   ]
  },
  {
   "cell_type": "code",
   "execution_count": null,
   "metadata": {},
   "outputs": [],
   "source": [
    "VectorNormalizer().normalize('sample_bios')\n",
    "searcher = Searcher(collection_name='bios')\n",
    "searcher.query('fashion entrepreneur', 8)"
   ]
  },
  {
   "cell_type": "code",
   "execution_count": null,
   "metadata": {},
   "outputs": [],
   "source": [
    "normal_7e22009"
   ]
  }
 ],
 "metadata": {
  "kernelspec": {
   "display_name": "Python 3",
   "language": "python",
   "name": "python3"
  },
  "language_info": {
   "codemirror_mode": {
    "name": "ipython",
    "version": 3
   },
   "file_extension": ".py",
   "mimetype": "text/x-python",
   "name": "python",
   "nbconvert_exporter": "python",
   "pygments_lexer": "ipython3",
   "version": "3.7.0"
  }
 },
 "nbformat": 4,
 "nbformat_minor": 2
}
