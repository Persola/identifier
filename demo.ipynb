{
 "cells": [
  {
   "cell_type": "code",
   "execution_count": 1,
   "metadata": {},
   "outputs": [],
   "source": [
    "import platform\n",
    "from os import listdir\n",
    "from os.path import isfile, join, basename\n",
    "import re\n",
    "\n",
    "import numpy as np\n",
    "from sklearn.feature_extraction.text import CountVectorizer\n",
    "from sklearn.metrics.pairwise import cosine_similarity\n",
    "from scipy.spatial.distance import cosine"
   ]
  },
  {
   "cell_type": "code",
   "execution_count": 2,
   "metadata": {},
   "outputs": [],
   "source": [
    "STUB_DATA_PATH = 'data/stub_data'"
   ]
  },
  {
   "cell_type": "code",
   "execution_count": 3,
   "metadata": {},
   "outputs": [],
   "source": [
    "if platform.system() not in ('Darwin', 'Linux'):\n",
    "    fail(\"I wasn't designed to run on this operating system.\")\n",
    "\n",
    "def simple_clean(doc):\n",
    "    return re.sub('[^a-zA-Z\\s.]', '', doc)\n",
    "    \n",
    "def stub_data_paragraphs():\n",
    "    filenames = listdir(STUB_DATA_PATH)\n",
    "    stub_paras = {}\n",
    "    for filename in filenames:\n",
    "        with open(join(STUB_DATA_PATH, filename), 'r') as file:\n",
    "            stub_paras[filename] = simple_clean(file.read())\n",
    "    return stub_paras\n"
   ]
  },
  {
   "cell_type": "code",
   "execution_count": 4,
   "metadata": {},
   "outputs": [],
   "source": [
    "paras = stub_data_paragraphs()\n",
    "names = list(paras.keys())\n",
    "articles = [paras[name] for name in names]\n",
    "vectorizer = CountVectorizer()\n",
    "documents_by_terms = vectorizer.fit_transform(articles)"
   ]
  },
  {
   "cell_type": "code",
   "execution_count": 5,
   "metadata": {},
   "outputs": [],
   "source": [
    "def vocabulary_as_strings(vectorizer):\n",
    "    return vectorizer.vocabulary_.keys()"
   ]
  },
  {
   "cell_type": "code",
   "execution_count": 6,
   "metadata": {},
   "outputs": [],
   "source": [
    "def unidimensionalize(two_dim_vect):\n",
    "    return np.array(two_dim_vect[0])"
   ]
  },
  {
   "cell_type": "code",
   "execution_count": 7,
   "metadata": {},
   "outputs": [],
   "source": [
    "def predict(vectorizer, documents_by_terms, names, query):\n",
    "    vectorized_query = vectorizer.transform([simple_clean(query)])\n",
    "    nested_sims = cosine_similarity(\n",
    "        documents_by_terms,\n",
    "        vectorized_query\n",
    "    )\n",
    "    sims = [ns[0] for ns in nested_sims]\n",
    "    return [names[ind] for ind in np.argsort(sims)]\n"
   ]
  },
  {
   "cell_type": "code",
   "execution_count": 8,
   "metadata": {},
   "outputs": [
    {
     "data": {
      "text/plain": [
       "['Muhammad',\n",
       " 'Muhammad_Ali',\n",
       " 'Lord_Byron',\n",
       " 'Henry_VIII_of_England',\n",
       " 'Andrew_Ng',\n",
       " 'Richard_Nixon',\n",
       " 'Ludwig_Wittgenstein',\n",
       " 'Han_Fei']"
      ]
     },
     "execution_count": 8,
     "metadata": {},
     "output_type": "execute_result"
    }
   ],
   "source": [
    "predict(vectorizer, documents_by_terms, names, 'philosopher')"
   ]
  },
  {
   "cell_type": "code",
   "execution_count": null,
   "metadata": {},
   "outputs": [],
   "source": []
  }
 ],
 "metadata": {
  "kernelspec": {
   "display_name": "Python 3",
   "language": "python",
   "name": "python3"
  },
  "language_info": {
   "codemirror_mode": {
    "name": "ipython",
    "version": 3
   },
   "file_extension": ".py",
   "mimetype": "text/x-python",
   "name": "python",
   "nbconvert_exporter": "python",
   "pygments_lexer": "ipython3",
   "version": "3.7.0"
  }
 },
 "nbformat": 4,
 "nbformat_minor": 2
}
