{
 "cells": [
  {
   "cell_type": "code",
   "execution_count": 1,
   "metadata": {},
   "outputs": [],
   "source": [
    "import sys\n",
    "sys.path += [\n",
    "    './lib/',\n",
    "    './lib/field_mappers'\n",
    "]"
   ]
  },
  {
   "cell_type": "code",
   "execution_count": 2,
   "metadata": {},
   "outputs": [],
   "source": [
    "from pymongo import MongoClient\n",
    "import spacy\n",
    "\n",
    "from extract_biographies import extract_biographies\n",
    "from generate_sample_collection import copy_sample\n",
    "from extract_first_sentence import FirstSentenceExtractor\n",
    "from vectorizer import Vectorizer\n",
    "from query import Searcher"
   ]
  },
  {
   "cell_type": "code",
   "execution_count": 3,
   "metadata": {},
   "outputs": [],
   "source": [
    "SPACY_MODEL = 'en_vectors_web_lg'"
   ]
  },
  {
   "cell_type": "code",
   "execution_count": 4,
   "metadata": {},
   "outputs": [
    {
     "name": "stderr",
     "output_type": "stream",
     "text": [
      "/Users/lu/.pyenv/versions/3.7.0/lib/python3.7/site-packages/ipykernel_launcher.py:3: DeprecationWarning: remove is deprecated. Use delete_one or delete_many instead.\n",
      "  This is separate from the ipykernel package so we can avoid doing imports until\n",
      "/Users/lu/.pyenv/versions/3.7.0/lib/python3.7/site-packages/ipykernel_launcher.py:4: DeprecationWarning: remove is deprecated. Use delete_one or delete_many instead.\n",
      "  after removing the cwd from sys.path.\n"
     ]
    },
    {
     "data": {
      "text/plain": [
       "{'n': 10, 'ok': 1.0}"
      ]
     },
     "execution_count": 4,
     "metadata": {},
     "output_type": "execute_result"
    }
   ],
   "source": [
    "db = MongoClient().who\n",
    "# clean up test db\n",
    "db.bios.remove({})\n",
    "db.sample_bios.remove({})"
   ]
  },
  {
   "cell_type": "code",
   "execution_count": 5,
   "metadata": {},
   "outputs": [
    {
     "name": "stdout",
     "output_type": "stream",
     "text": [
      "inserting batch 0\n"
     ]
    }
   ],
   "source": [
    "extract_biographies(collection_name='bios', limit=100)"
   ]
  },
  {
   "cell_type": "code",
   "execution_count": 6,
   "metadata": {},
   "outputs": [
    {
     "data": {
      "text/plain": [
       "100"
      ]
     },
     "execution_count": 6,
     "metadata": {},
     "output_type": "execute_result"
    }
   ],
   "source": [
    "db.bios.count_documents({})"
   ]
  },
  {
   "cell_type": "code",
   "execution_count": 7,
   "metadata": {},
   "outputs": [
    {
     "data": {
      "text/plain": [
       "10"
      ]
     },
     "execution_count": 7,
     "metadata": {},
     "output_type": "execute_result"
    }
   ],
   "source": [
    "copy_sample('bios', 'sample_bios', 10)\n",
    "db.sample_bios.count_documents({})"
   ]
  },
  {
   "cell_type": "code",
   "execution_count": 8,
   "metadata": {},
   "outputs": [
    {
     "name": "stdout",
     "output_type": "stream",
     "text": [
      "insertation count: 0\n"
     ]
    }
   ],
   "source": [
    "FirstSentenceExtractor().extract('sample_bios', new_field_name='first_sentence')"
   ]
  },
  {
   "cell_type": "code",
   "execution_count": 9,
   "metadata": {},
   "outputs": [
    {
     "data": {
      "text/plain": [
       "dict_keys(['_id', 'name', 'bio', 'first_sentence'])"
      ]
     },
     "execution_count": 9,
     "metadata": {},
     "output_type": "execute_result"
    }
   ],
   "source": [
    "next(db.sample_bios.find({})).keys()"
   ]
  },
  {
   "cell_type": "code",
   "execution_count": 10,
   "metadata": {},
   "outputs": [
    {
     "data": {
      "text/plain": [
       "'Albert Einstein  was a German-born theoretical physicist who developed the theory of relativity, one of the two pillars of modern physics .'"
      ]
     },
     "execution_count": 10,
     "metadata": {},
     "output_type": "execute_result"
    }
   ],
   "source": [
    "next(db.sample_bios.find({}))['first_sentence']"
   ]
  },
  {
   "cell_type": "code",
   "execution_count": 11,
   "metadata": {},
   "outputs": [],
   "source": [
    "nlp = spacy.load(SPACY_MODEL)"
   ]
  },
  {
   "cell_type": "code",
   "execution_count": 12,
   "metadata": {},
   "outputs": [
    {
     "name": "stdout",
     "output_type": "stream",
     "text": [
      "insertation count: 0\n"
     ]
    }
   ],
   "source": [
    "Vectorizer(nlp).vectorize_text(\n",
    "    collection_name='sample_bios',\n",
    "    text_field_name='first_sentence',\n",
    "    vector_field_name='fresh_new_vectorization'\n",
    ")"
   ]
  },
  {
   "cell_type": "code",
   "execution_count": 13,
   "metadata": {},
   "outputs": [
    {
     "data": {
      "text/plain": [
       "[0.032865554094314575,\n",
       " 0.17108696699142456,\n",
       " -0.14145277440547943,\n",
       " -0.05955364927649498,\n",
       " -0.03597114607691765,\n",
       " 0.03867463022470474,\n",
       " -0.025338320061564445,\n",
       " -0.07364924997091293,\n",
       " 0.0813150405883789]"
      ]
     },
     "execution_count": 13,
     "metadata": {},
     "output_type": "execute_result"
    }
   ],
   "source": [
    "next(db.sample_bios.find({}))['fresh_new_vectorization'][:9]"
   ]
  },
  {
   "cell_type": "code",
   "execution_count": 14,
   "metadata": {},
   "outputs": [
    {
     "data": {
      "text/plain": [
       "dict_keys(['_id', 'name', 'bio', 'first_sentence', 'fresh_new_vectorization'])"
      ]
     },
     "execution_count": 14,
     "metadata": {},
     "output_type": "execute_result"
    }
   ],
   "source": [
    "next(db.sample_bios.find({})).keys()"
   ]
  },
  {
   "cell_type": "code",
   "execution_count": 15,
   "metadata": {
    "scrolled": true
   },
   "outputs": [
    {
     "name": "stdout",
     "output_type": "stream",
     "text": [
      "generating vector similarity maps...\n"
     ]
    },
    {
     "data": {
      "text/plain": [
       "['Aga Khan I',\n",
       " 'Aga Khan III',\n",
       " 'Antonio Agliardi',\n",
       " 'Alexander of Pherae',\n",
       " 'Alexander II of Epirus',\n",
       " 'Albert Einstein',\n",
       " 'Albert the Bear',\n",
       " 'Amalaric',\n",
       " 'Alan Garner',\n",
       " 'A. A. Milne']"
      ]
     },
     "execution_count": 15,
     "metadata": {},
     "output_type": "execute_result"
    }
   ],
   "source": [
    "Searcher(\n",
    "    nlp,\n",
    "    collection_name='sample_bios',\n",
    "    vector_field_name='fresh_new_vectorization'\n",
    ").query('religious ruler', limit=10)"
   ]
  },
  {
   "cell_type": "code",
   "execution_count": null,
   "metadata": {},
   "outputs": [],
   "source": []
  }
 ],
 "metadata": {
  "kernelspec": {
   "display_name": "Python 3",
   "language": "python",
   "name": "python3"
  },
  "language_info": {
   "codemirror_mode": {
    "name": "ipython",
    "version": 3
   },
   "file_extension": ".py",
   "mimetype": "text/x-python",
   "name": "python",
   "nbconvert_exporter": "python",
   "pygments_lexer": "ipython3",
   "version": "3.7.0"
  }
 },
 "nbformat": 4,
 "nbformat_minor": 2
}
